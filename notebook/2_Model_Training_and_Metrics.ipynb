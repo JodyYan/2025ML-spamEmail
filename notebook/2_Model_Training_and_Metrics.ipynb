{
 "cells": [
  {
   "cell_type": "code",
   "execution_count": null,
   "id": "540bd870",
   "metadata": {
    "vscode": {
     "languageId": "plaintext"
    }
   },
   "outputs": [],
   "source": [
    "# 導入所需庫\n",
    "import pandas as pd\n",
    "import numpy as np\n",
    "import matplotlib.pyplot as plt\n",
    "import seaborn as sns\n",
    "import joblib\n",
    "\n",
    "from sklearn.model_selection import train_test_split\n",
    "from sklearn.feature_extraction.text import TfidfVectorizer\n",
    "from sklearn.naive_bayes import MultinomialNB\n",
    "from sklearn.metrics import accuracy_score, precision_score, recall_score, f1_score, confusion_matrix\n",
    "\n",
    "# 設定檔案路徑 (與 main_pipeline.py 保持一致)\n",
    "DATA_PATH = '../data/sms_spam_no_header.csv'\n",
    "MODEL_PATH = '../model/spam_classifier_mnb.pkl'\n",
    "VECTORIZER_PATH = '../model/tfidf_vectorizer.pkl'"
   ]
  },
  {
   "cell_type": "code",
   "execution_count": null,
   "id": "39e77bf1",
   "metadata": {
    "vscode": {
     "languageId": "plaintext"
    }
   },
   "outputs": [],
   "source": [
    "print(\"--- 1. 數據載入與準備 ---\")\n",
    "\n",
    "# 修正後的數據載入邏輯：使用 header=None，並手動指定欄位名\n",
    "df = pd.read_csv(DATA_PATH, encoding='latin-1', header=None)\n",
    "df = df.rename(columns={0: 'label', 1: 'text'})\n",
    "df = df[['label', 'text']]\n",
    "\n",
    "# 轉換標籤：ham=0, spam=1\n",
    "df['label'] = df['label'].map({'ham': 0, 'spam': 1})\n",
    "\n",
    "# 顯示數據集基本資訊\n",
    "print(f\"總數據筆數: {len(df)}\")\n",
    "print(f\"非垃圾郵件 (HAM): {df['label'].value_counts()[0]} 筆\")\n",
    "print(f\"垃圾郵件 (SPAM): {df['label'].value_counts()[1]} 筆\")\n",
    "\n",
    "# 劃分訓練集和測試集\n",
    "X = df['text']\n",
    "y = df['label']\n",
    "X_train, X_test, y_train, y_test = train_test_split(X, y, test_size=0.2, random_state=42)\n",
    "\n",
    "print(f\"\\n訓練集大小: {len(X_train)}\")\n",
    "print(f\"測試集大小: {len(X_test)}\")"
   ]
  },
  {
   "cell_type": "code",
   "execution_count": null,
   "id": "1aea98c0",
   "metadata": {
    "vscode": {
     "languageId": "plaintext"
    }
   },
   "outputs": [],
   "source": [
    "print(\"--- 2. 特徵工程 (TF-IDF) ---\")\n",
    "\n",
    "# 訓練 TfidfVectorizer\n",
    "tfidf_vectorizer = TfidfVectorizer(stop_words='english', max_features=5000)\n",
    "X_train_tfidf = tfidf_vectorizer.fit_transform(X_train)\n",
    "X_test_tfidf = tfidf_vectorizer.transform(X_test)\n",
    "\n",
    "# 保存 Vectorizer 供 Streamlit 使用\n",
    "import os\n",
    "os.makedirs('../model', exist_ok=True)\n",
    "joblib.dump(tfidf_vectorizer, VECTORIZER_PATH)\n",
    "\n",
    "print(\"TF-IDF Vectorizer 訓練完成並已保存。\")"
   ]
  },
  {
   "cell_type": "code",
   "execution_count": null,
   "id": "ae63d942",
   "metadata": {
    "vscode": {
     "languageId": "plaintext"
    }
   },
   "outputs": [],
   "source": [
    "print(\"--- 3. 模型訓練 (Multinomial Naive Bayes) ---\")\n",
    "\n",
    "# 訓練模型\n",
    "model = MultinomialNB()\n",
    "model.fit(X_train_tfidf, y_train)\n",
    "\n",
    "# 保存訓練好的模型\n",
    "joblib.dump(model, MODEL_PATH)\n",
    "\n",
    "print(\"模型訓練完成並已保存到 'model/spam_classifier_mnb.pkl'。\")"
   ]
  },
  {
   "cell_type": "code",
   "execution_count": null,
   "id": "47b65210",
   "metadata": {
    "vscode": {
     "languageId": "plaintext"
    }
   },
   "outputs": [],
   "source": [
    "print(\"--- 4. 模型評估與指標計算 ---\")\n",
    "\n",
    "# 進行預測\n",
    "y_pred = model.predict(X_test_tfidf)\n",
    "\n",
    "# 計算指標\n",
    "accuracy = accuracy_score(y_test, y_pred)\n",
    "precision = precision_score(y_test, y_pred)\n",
    "recall = recall_score(y_test, y_pred)\n",
    "f1 = f1_score(y_test, y_pred)\n",
    "cm = confusion_matrix(y_test, y_pred)\n",
    "\n",
    "# 顯示結果\n",
    "print(f\"✅ 準確度 (Accuracy): {accuracy:.4f}\")\n",
    "print(f\"✅ 精確度 (Precision): {precision:.4f}\")\n",
    "print(f\"✅ 召回率 (Recall): {recall:.4f}\")\n",
    "print(f\"✅ F1 分數 (F1 Score): {f1:.4f}\")"
   ]
  },
  {
   "cell_type": "code",
   "execution_count": null,
   "id": "c4f937b2",
   "metadata": {
    "vscode": {
     "languageId": "plaintext"
    }
   },
   "outputs": [],
   "source": [
    "print(\"--- 5. 混淆矩陣可視化 ---\")\n",
    "\n",
    "# 根據 Streamlit 優化的參數來繪製混淆矩陣，確保緊湊且清晰\n",
    "# 設置較小的圖表尺寸和字體\n",
    "fig, ax = plt.subplots(figsize=(4, 3.5)) \n",
    "\n",
    "sns.heatmap(cm, \n",
    "            annot=True, \n",
    "            fmt='d', # 確保數字顯示為整數\n",
    "            cmap='Blues', \n",
    "            cbar=False,\n",
    "            xticklabels=['HAM (Pred 0)', 'SPAM (Pred 1)'], \n",
    "            yticklabels=['HAM (Actual 0)', 'SPAM (Actual 1)'],\n",
    "            annot_kws={\"fontsize\": 14}, # 格子內數字大小\n",
    "            ax=ax)\n",
    "\n",
    "# 調整軸標籤和刻度字體大小\n",
    "ax.set_ylabel('Actual Label', fontsize=12)\n",
    "ax.set_xlabel('Predicted Label', fontsize=12)\n",
    "ax.tick_params(axis='x', labelsize=10)\n",
    "ax.tick_params(axis='y', labelsize=10, rotation=0)\n",
    "\n",
    "plt.title(\"Confusion Matrix for Test Set\", fontsize=14)\n",
    "plt.tight_layout()\n",
    "\n",
    "# 顯示圖表\n",
    "plt.show()"
   ]
  }
 ],
 "metadata": {
  "language_info": {
   "name": "python"
  }
 },
 "nbformat": 4,
 "nbformat_minor": 5
}
